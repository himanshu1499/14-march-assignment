{
 "cells": [
  {
   "cell_type": "code",
   "execution_count": 1,
   "id": "704bd2ab-3f8c-493f-8439-3b293fe6e9c0",
   "metadata": {},
   "outputs": [],
   "source": [
    "# Q1 \n",
    "worker1= [18, 19, 22, 25, 27, 28, 41, 45, 51, 55]\n",
    "worker2= [14, 15, 15, 17, 18, 22, 25, 25, 27, 34]"
   ]
  },
  {
   "cell_type": "code",
   "execution_count": 15,
   "id": "f4076200-651a-4db9-98e1-634fae129969",
   "metadata": {},
   "outputs": [],
   "source": [
    "import numpy as np\n",
    "import scipy.stats\n",
    "    "
   ]
  },
  {
   "cell_type": "code",
   "execution_count": 17,
   "id": "7610dd6b-8fe5-4509-8322-6dd4cb6b808b",
   "metadata": {},
   "outputs": [
    {
     "name": "stdout",
     "output_type": "stream",
     "text": [
      "168.29 38.36\n"
     ]
    }
   ],
   "source": [
    "x = np.array(worker1)\n",
    "y = np.array(worker2)\n",
    "print(np.var(worker1) , np.var(worker2))"
   ]
  },
  {
   "cell_type": "code",
   "execution_count": 19,
   "id": "b737b6ff-37f6-432a-af90-d8757222f395",
   "metadata": {},
   "outputs": [],
   "source": [
    "def f_test(worker1,worker2):\n",
    "    f =  np.var(worker1,ddof=1)/np.var(worker2,ddof=1)\n",
    "    nun = x.size-1\n",
    "    dun = y.size-1\n",
    "    p_value = 1-scipy.stats.f.cdf(f,nun,dun)\n",
    "    return f,p_value"
   ]
  },
  {
   "cell_type": "code",
   "execution_count": 20,
   "id": "9bc5593c-ad76-475b-8fc5-a2d9cee3e46c",
   "metadata": {},
   "outputs": [
    {
     "data": {
      "text/plain": [
       "(4.387122002085505, 0.01912653593238578)"
      ]
     },
     "execution_count": 20,
     "metadata": {},
     "output_type": "execute_result"
    }
   ],
   "source": [
    "f_test(x,y)"
   ]
  },
  {
   "cell_type": "code",
   "execution_count": 21,
   "id": "5e0fbe04-7f43-474f-a602-5448f13fac91",
   "metadata": {},
   "outputs": [],
   "source": [
    "# Q2\n",
    "g1 = [0.28, 0.2, 0.26, 0.28, 0.5]\n",
    "g2 = [0.2, 0.23, 0.26, 0.21, 0.23]"
   ]
  },
  {
   "cell_type": "code",
   "execution_count": 22,
   "id": "91101d71-2c4b-4b20-86b1-67383370deff",
   "metadata": {},
   "outputs": [],
   "source": [
    "import numpy as np\n",
    "f_test = np.var(g1)/np.var(g2)"
   ]
  },
  {
   "cell_type": "code",
   "execution_count": 23,
   "id": "b264cfc5-3525-4ee7-85c4-1ae20c6918a7",
   "metadata": {},
   "outputs": [
    {
     "data": {
      "text/plain": [
       "24.679245283018858"
      ]
     },
     "execution_count": 23,
     "metadata": {},
     "output_type": "execute_result"
    }
   ],
   "source": [
    "f_test"
   ]
  },
  {
   "cell_type": "code",
   "execution_count": 24,
   "id": "d3855a5a-ac36-42fa-aa04-ef3a72e393ea",
   "metadata": {},
   "outputs": [],
   "source": [
    "df1 = len(g1)-1\n",
    "df2 = len(g2)-1\n",
    "significance_value = 0.05"
   ]
  },
  {
   "cell_type": "code",
   "execution_count": 25,
   "id": "7d6696fb-2c02-4834-a5e5-7d8e4be235f0",
   "metadata": {},
   "outputs": [],
   "source": [
    "import scipy.stats as stat"
   ]
  },
  {
   "cell_type": "code",
   "execution_count": 26,
   "id": "5ace467e-603d-4228-974b-4b67a811b062",
   "metadata": {},
   "outputs": [],
   "source": [
    "cv = stat.f.ppf(q=1-significance_value,dfn=df1,dfd=df2)"
   ]
  },
  {
   "cell_type": "code",
   "execution_count": 27,
   "id": "7abedf76-cccf-43a2-abae-0278251d6feb",
   "metadata": {},
   "outputs": [
    {
     "data": {
      "text/plain": [
       "6.388232908695868"
      ]
     },
     "execution_count": 27,
     "metadata": {},
     "output_type": "execute_result"
    }
   ],
   "source": [
    "cv"
   ]
  },
  {
   "cell_type": "code",
   "execution_count": 28,
   "id": "7f560428-9638-4b3c-b026-1af058ad1f48",
   "metadata": {},
   "outputs": [
    {
     "name": "stdout",
     "output_type": "stream",
     "text": [
      "reject the null\n"
     ]
    }
   ],
   "source": [
    "if f_test>cv:\n",
    "    print(\"reject the null\")\n",
    "else:\n",
    "    print(\"fail to reject the null\")"
   ]
  },
  {
   "cell_type": "code",
   "execution_count": 29,
   "id": "e42b6d3c-10b0-4500-86d2-e029f6a4a5de",
   "metadata": {},
   "outputs": [],
   "source": [
    "# Q3\n",
    "A = [40,30,38,41,38,35]\n",
    "B =[39,38,41,33,32,39,40,34]"
   ]
  },
  {
   "cell_type": "code",
   "execution_count": 30,
   "id": "d66e8f3b-abfa-4249-b463-2292c4614ddc",
   "metadata": {},
   "outputs": [],
   "source": [
    "import numpy as np"
   ]
  },
  {
   "cell_type": "code",
   "execution_count": 31,
   "id": "3a633bfe-1dd5-4057-a219-b92ad1129f6c",
   "metadata": {},
   "outputs": [],
   "source": [
    "f_test = np.var(A)/np.var(B)"
   ]
  },
  {
   "cell_type": "code",
   "execution_count": 32,
   "id": "3264cca2-ea7b-4a92-98b6-fdcb7993e883",
   "metadata": {},
   "outputs": [
    {
     "data": {
      "text/plain": [
       "1.26984126984127"
      ]
     },
     "execution_count": 32,
     "metadata": {},
     "output_type": "execute_result"
    }
   ],
   "source": [
    "f_test"
   ]
  },
  {
   "cell_type": "code",
   "execution_count": 34,
   "id": "7ffab7fa-ee9b-473d-b58c-dd37ad41c13d",
   "metadata": {},
   "outputs": [],
   "source": [
    "df1= len(A)-1\n",
    "df2 = len(B)-1\n",
    "significance_value= 0.05"
   ]
  },
  {
   "cell_type": "code",
   "execution_count": 35,
   "id": "28427e13-2ed2-46f3-8144-a0ee27bda6ff",
   "metadata": {},
   "outputs": [
    {
     "data": {
      "text/plain": [
       "5"
      ]
     },
     "execution_count": 35,
     "metadata": {},
     "output_type": "execute_result"
    }
   ],
   "source": [
    "df1"
   ]
  },
  {
   "cell_type": "code",
   "execution_count": 36,
   "id": "c1decaa8-2134-4b5e-898c-8a92fcac665c",
   "metadata": {},
   "outputs": [
    {
     "data": {
      "text/plain": [
       "7"
      ]
     },
     "execution_count": 36,
     "metadata": {},
     "output_type": "execute_result"
    }
   ],
   "source": [
    "df2"
   ]
  },
  {
   "cell_type": "code",
   "execution_count": 37,
   "id": "e138bcd3-e9ec-4cde-a779-b87fcb1100ad",
   "metadata": {},
   "outputs": [],
   "source": [
    "import scipy.stats as stat"
   ]
  },
  {
   "cell_type": "code",
   "execution_count": 45,
   "id": "ae35fe87-1bbf-4b92-b5fc-ebd8fabb75ca",
   "metadata": {},
   "outputs": [
    {
     "name": "stdout",
     "output_type": "stream",
     "text": [
      "1.3333333333333333 0.35118401595583715\n"
     ]
    }
   ],
   "source": [
    "f =  np.var(A,ddof=1)/np.var(B,ddof=1)\n",
    "p_value = 1-scipy.stats.f.cdf(f,df1,df2)\n",
    "print(f,p_value)\n"
   ]
  },
  {
   "cell_type": "code",
   "execution_count": 61,
   "id": "281f4246-ffbd-4646-a173-5a9abf37f1cd",
   "metadata": {},
   "outputs": [],
   "source": [
    "## Q9 \n",
    "ga = [80,85,90,92,87,83]\n",
    "gb = [75,78,82,79,81,84]"
   ]
  },
  {
   "cell_type": "code",
   "execution_count": 62,
   "id": "ffe8e4d8-affb-4e25-a503-a6682e11737e",
   "metadata": {},
   "outputs": [],
   "source": [
    "import numpy as np\n",
    "import scipy.stats as stat"
   ]
  },
  {
   "cell_type": "code",
   "execution_count": 63,
   "id": "56fcbaa5-e4ec-48fa-a3fc-b5dfd9f28b58",
   "metadata": {},
   "outputs": [],
   "source": [
    "f_test = np.var(ga)/np.var(gb)"
   ]
  },
  {
   "cell_type": "code",
   "execution_count": 64,
   "id": "98fb2f01-cfee-4b77-b5f4-0ff795b17551",
   "metadata": {},
   "outputs": [
    {
     "data": {
      "text/plain": [
       "1.9442622950819677"
      ]
     },
     "execution_count": 64,
     "metadata": {},
     "output_type": "execute_result"
    }
   ],
   "source": [
    "f_test"
   ]
  },
  {
   "cell_type": "code",
   "execution_count": 65,
   "id": "ee1a4db8-46a3-438f-8b4a-3d16a86786a6",
   "metadata": {},
   "outputs": [],
   "source": [
    "df1= len(ga)-1\n",
    "df2= len(gb)-1\n",
    "significance_value = 0.01"
   ]
  },
  {
   "cell_type": "code",
   "execution_count": 66,
   "id": "db1d4fe6-6542-4bab-ae3e-3cb8d687a423",
   "metadata": {},
   "outputs": [
    {
     "data": {
      "text/plain": [
       "5"
      ]
     },
     "execution_count": 66,
     "metadata": {},
     "output_type": "execute_result"
    }
   ],
   "source": [
    "df1"
   ]
  },
  {
   "cell_type": "code",
   "execution_count": 67,
   "id": "3525da15-eb3e-4c29-abba-ee5a01364b09",
   "metadata": {},
   "outputs": [
    {
     "data": {
      "text/plain": [
       "5"
      ]
     },
     "execution_count": 67,
     "metadata": {},
     "output_type": "execute_result"
    }
   ],
   "source": [
    "df2"
   ]
  },
  {
   "cell_type": "code",
   "execution_count": 68,
   "id": "b42bfc40-5c86-4735-9ba2-0d8f78f2a28e",
   "metadata": {},
   "outputs": [],
   "source": [
    "cv = stat.f.ppf(q=1-significance_value,dfn=df1,dfd=df2)"
   ]
  },
  {
   "cell_type": "code",
   "execution_count": 69,
   "id": "302dba7b-e7c8-4405-b428-a400c5f46b8a",
   "metadata": {},
   "outputs": [
    {
     "data": {
      "text/plain": [
       "10.967020650907992"
      ]
     },
     "execution_count": 69,
     "metadata": {},
     "output_type": "execute_result"
    }
   ],
   "source": [
    "cv"
   ]
  },
  {
   "cell_type": "code",
   "execution_count": 70,
   "id": "2e071280-041c-439c-afb2-15138851c129",
   "metadata": {},
   "outputs": [
    {
     "name": "stdout",
     "output_type": "stream",
     "text": [
      "we fail to reject the null\n"
     ]
    }
   ],
   "source": [
    "if f_test>cv:\n",
    "    print(\"we reject the null\")\n",
    "else:\n",
    "    print(\"we fail to reject the null\")"
   ]
  },
  {
   "cell_type": "code",
   "execution_count": 71,
   "id": "45c88fbc-325a-452b-a28b-46613cde89ad",
   "metadata": {},
   "outputs": [],
   "source": [
    "## Q8 \n",
    "data1 = [24,25,28,23,22,20,27]\n",
    "data2 = [31,33,35,30,32,36]"
   ]
  },
  {
   "cell_type": "code",
   "execution_count": 72,
   "id": "b90366c4-3fe9-4c16-a804-f296cb0fd433",
   "metadata": {},
   "outputs": [],
   "source": [
    "import numpy as np \n",
    "import scipy.stats as stat"
   ]
  },
  {
   "cell_type": "code",
   "execution_count": 73,
   "id": "3b1551cf-b5d7-48db-98a6-d99734c1a233",
   "metadata": {},
   "outputs": [],
   "source": [
    "f_test = np.var(data1)/np.var(data2)"
   ]
  },
  {
   "cell_type": "code",
   "execution_count": 74,
   "id": "45a9f32b-17c4-438e-9ada-c3168909def5",
   "metadata": {},
   "outputs": [
    {
     "data": {
      "text/plain": [
       "1.496767651159843"
      ]
     },
     "execution_count": 74,
     "metadata": {},
     "output_type": "execute_result"
    }
   ],
   "source": [
    "f_test"
   ]
  },
  {
   "cell_type": "code",
   "execution_count": 75,
   "id": "07f89da7-e917-4d02-9db5-3e12082a6782",
   "metadata": {},
   "outputs": [],
   "source": [
    "df1 = len(data1)-1\n",
    "df2 =  len(data2)-1\n",
    "significance_value = 0.05"
   ]
  },
  {
   "cell_type": "code",
   "execution_count": 76,
   "id": "28de4756-c2b9-4173-a6c4-91b8ba4faf90",
   "metadata": {},
   "outputs": [
    {
     "data": {
      "text/plain": [
       "6"
      ]
     },
     "execution_count": 76,
     "metadata": {},
     "output_type": "execute_result"
    }
   ],
   "source": [
    "df1"
   ]
  },
  {
   "cell_type": "code",
   "execution_count": 77,
   "id": "8102d31b-b84d-40a6-b1eb-51b6d239c8ce",
   "metadata": {},
   "outputs": [
    {
     "data": {
      "text/plain": [
       "5"
      ]
     },
     "execution_count": 77,
     "metadata": {},
     "output_type": "execute_result"
    }
   ],
   "source": [
    "df2"
   ]
  },
  {
   "cell_type": "code",
   "execution_count": 79,
   "id": "0ad8b062-c1ea-4d1a-acc2-16d7e48d1b97",
   "metadata": {},
   "outputs": [],
   "source": [
    "cv = stat.f.ppf(q=1-significance_value,dfn=df1,dfd=df2)"
   ]
  },
  {
   "cell_type": "code",
   "execution_count": 80,
   "id": "02e57781-9acb-474b-946e-fd50a1597c5e",
   "metadata": {},
   "outputs": [
    {
     "data": {
      "text/plain": [
       "4.950288068694318"
      ]
     },
     "execution_count": 80,
     "metadata": {},
     "output_type": "execute_result"
    }
   ],
   "source": [
    "cv"
   ]
  },
  {
   "cell_type": "code",
   "execution_count": 16,
   "id": "48d5b39c-0440-4fe6-a611-df4f88942072",
   "metadata": {},
   "outputs": [
    {
     "name": "stdout",
     "output_type": "stream",
     "text": [
      "we reject the null\n"
     ]
    }
   ],
   "source": [
    "if f_test<cv:\n",
    "    print(\"we reject the null\")\n",
    "else:\n",
    "    print(\"we fail to reject the null\")\n",
    "    ## variances are significantly different"
   ]
  },
  {
   "cell_type": "code",
   "execution_count": 82,
   "id": "474fe631-bbda-4cdf-8c7e-1db1734d7022",
   "metadata": {},
   "outputs": [],
   "source": [
    "## Q6\n",
    "def variance(data, ddof=0):\n",
    "    n = len(data)\n",
    "    mean = sum(data)/n\n",
    "    return sum((x-mean) **2 for x in data)/(n-ddof)"
   ]
  },
  {
   "cell_type": "code",
   "execution_count": 83,
   "id": "c332ef14-3bdb-4cf8-94b5-64c60087c3b2",
   "metadata": {},
   "outputs": [
    {
     "data": {
      "text/plain": [
       "5.76"
      ]
     },
     "execution_count": 83,
     "metadata": {},
     "output_type": "execute_result"
    }
   ],
   "source": [
    "variance([4, 8, 6, 5, 3, 2, 8, 9, 2, 5])"
   ]
  },
  {
   "cell_type": "code",
   "execution_count": 84,
   "id": "e0e27b69-eb25-47f7-b474-055ccf27e08e",
   "metadata": {},
   "outputs": [
    {
     "data": {
      "text/plain": [
       "6.4"
      ]
     },
     "execution_count": 84,
     "metadata": {},
     "output_type": "execute_result"
    }
   ],
   "source": [
    "variance([4, 8, 6, 5, 3, 2, 8, 9, 2, 5], ddof=1)"
   ]
  },
  {
   "cell_type": "code",
   "execution_count": 87,
   "id": "dafa9197-8101-4307-bb22-fdc3847f7d65",
   "metadata": {},
   "outputs": [],
   "source": [
    "import numpy as np"
   ]
  },
  {
   "cell_type": "code",
   "execution_count": 88,
   "id": "a4ad042b-909a-4a9d-bfd1-f89063fb966b",
   "metadata": {},
   "outputs": [],
   "source": [
    "t=([4, 8, 6, 5, 3, 2, 8, 9, 2, 5])"
   ]
  },
  {
   "cell_type": "code",
   "execution_count": 89,
   "id": "461b32ab-1627-4c5b-a8b1-7839ce54b39c",
   "metadata": {},
   "outputs": [
    {
     "data": {
      "text/plain": [
       "5.2"
      ]
     },
     "execution_count": 89,
     "metadata": {},
     "output_type": "execute_result"
    }
   ],
   "source": [
    "np.mean(t)"
   ]
  },
  {
   "cell_type": "code",
   "execution_count": 5,
   "id": "ffbe30b3-17bd-4b7f-a7bb-7e0fa8ab6c49",
   "metadata": {},
   "outputs": [],
   "source": [
    "## Q7\\\n",
    "a=25 # sample variance of 10 measurement\n",
    "b=20 # sample variance of 15 measurement"
   ]
  },
  {
   "cell_type": "code",
   "execution_count": 2,
   "id": "fbc843bd-d31f-4d1a-9391-88bd4efbddf8",
   "metadata": {},
   "outputs": [],
   "source": [
    "import numpy as np\n",
    "import scipy.stats as stat"
   ]
  },
  {
   "cell_type": "code",
   "execution_count": 7,
   "id": "13c4abf4-a9ea-4353-b16f-413af3f7dff3",
   "metadata": {},
   "outputs": [],
   "source": [
    "f_test = a/b"
   ]
  },
  {
   "cell_type": "code",
   "execution_count": 8,
   "id": "95373350-b27a-47f3-b167-a27bdff4db05",
   "metadata": {},
   "outputs": [
    {
     "data": {
      "text/plain": [
       "1.25"
      ]
     },
     "execution_count": 8,
     "metadata": {},
     "output_type": "execute_result"
    }
   ],
   "source": [
    "f_test"
   ]
  },
  {
   "cell_type": "code",
   "execution_count": 9,
   "id": "270593e8-d01d-440d-a8ca-acfb554d86b7",
   "metadata": {},
   "outputs": [],
   "source": [
    "df1 = 10-1\n",
    "df2 = 15-1\n",
    "significance_value =0.1"
   ]
  },
  {
   "cell_type": "code",
   "execution_count": 10,
   "id": "0f9c085e-0d01-4d0d-be08-e6a49ada3d75",
   "metadata": {},
   "outputs": [
    {
     "data": {
      "text/plain": [
       "9"
      ]
     },
     "execution_count": 10,
     "metadata": {},
     "output_type": "execute_result"
    }
   ],
   "source": [
    "df1"
   ]
  },
  {
   "cell_type": "code",
   "execution_count": 11,
   "id": "405160d8-b728-42f7-beb6-ae657c506b44",
   "metadata": {},
   "outputs": [
    {
     "data": {
      "text/plain": [
       "14"
      ]
     },
     "execution_count": 11,
     "metadata": {},
     "output_type": "execute_result"
    }
   ],
   "source": [
    "df2"
   ]
  },
  {
   "cell_type": "code",
   "execution_count": 12,
   "id": "f8fad7b0-af68-41d2-a139-057f5f754c45",
   "metadata": {},
   "outputs": [],
   "source": [
    "cv = stat.f.ppf(q=1-significance_value,dfn=9,dfd=14)"
   ]
  },
  {
   "cell_type": "code",
   "execution_count": 13,
   "id": "212fc212-6319-410c-9554-db37f60cbdf8",
   "metadata": {},
   "outputs": [
    {
     "data": {
      "text/plain": [
       "2.121954566976902"
      ]
     },
     "execution_count": 13,
     "metadata": {},
     "output_type": "execute_result"
    }
   ],
   "source": [
    "cv"
   ]
  },
  {
   "cell_type": "code",
   "execution_count": 15,
   "id": "7d5b2a31-b676-4b94-aa03-bfdd5417fa08",
   "metadata": {},
   "outputs": [
    {
     "name": "stdout",
     "output_type": "stream",
     "text": [
      "we reject the null\n"
     ]
    }
   ],
   "source": [
    "if f_test<cv:\n",
    "    print(\"we reject the null\")\n",
    "else:\n",
    "    print(\"we fail to reject the null\")"
   ]
  },
  {
   "cell_type": "code",
   "execution_count": null,
   "id": "a955d194-6890-4639-9b66-158c8ab726c9",
   "metadata": {},
   "outputs": [],
   "source": []
  }
 ],
 "metadata": {
  "kernelspec": {
   "display_name": "Python 3 (ipykernel)",
   "language": "python",
   "name": "python3"
  },
  "language_info": {
   "codemirror_mode": {
    "name": "ipython",
    "version": 3
   },
   "file_extension": ".py",
   "mimetype": "text/x-python",
   "name": "python",
   "nbconvert_exporter": "python",
   "pygments_lexer": "ipython3",
   "version": "3.10.6"
  }
 },
 "nbformat": 4,
 "nbformat_minor": 5
}
